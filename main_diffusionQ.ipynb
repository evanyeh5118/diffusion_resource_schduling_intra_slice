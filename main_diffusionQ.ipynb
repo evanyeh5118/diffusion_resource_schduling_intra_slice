{
 "cells": [
  {
   "cell_type": "code",
   "execution_count": 1,
   "metadata": {},
   "outputs": [],
   "source": [
    "import os\n",
    "os.environ[\"KMP_DUPLICATE_LIB_OK\"]=\"TRUE\"\n",
    "\n",
    "import numpy as np\n",
    "import torch\n",
    "import matplotlib.pyplot as plt\n",
    "from torch.utils.data import DataLoader, TensorDataset\n",
    "from tqdm import tqdm\n",
    "\n",
    "\n",
    "\n",
    "from DiffusionLibs import DiffusionQLearner\n"
   ]
  },
  {
   "cell_type": "code",
   "execution_count": 2,
   "metadata": {},
   "outputs": [],
   "source": [
    "import numpy as np\n",
    "\n",
    "# 1. Define mixture components\n",
    "_centers = np.array([\n",
    "    [ 0.0,  0.8],\n",
    "    [ 0.8,  0.0],\n",
    "    [ 0.0, -0.8],\n",
    "    [-0.8,  0.0],\n",
    "])    # shape (4,2)\n",
    "\n",
    "# Reward means and default shared standard deviation\n",
    "_reward_means = np.array([0.5, 0.0, -1.0, 1.0])\n",
    "_reward_std   = 0.5\n",
    "\n",
    "def reward_function(actions: np.ndarray, reward_std: float = _reward_std):\n",
    "    \"\"\"\n",
    "    Given either:\n",
    "      - actions of shape (2,)  → returns a single float reward\n",
    "      - actions of shape (M,2) → returns an array of M rewards\n",
    "\n",
    "    For each action, finds the nearest Gaussian center j and samples\n",
    "      r ~ N(_reward_means[j], reward_std^2).\n",
    "    \"\"\"\n",
    "    a = np.asarray(actions, dtype=float)\n",
    "    # ensure we have a batch dimension\n",
    "    was_single = (a.ndim == 1)\n",
    "    if was_single:\n",
    "        a = a[None, :]            # shape now (1,2)\n",
    "\n",
    "    # compute pairwise distances: (M,1,2) - (1,4,2) → (M,4,2) then norm → (M,4)\n",
    "    # equivalently: broadcast\n",
    "    diffs = a[:, None, :] - _centers[None, :, :]   # (M,4,2)\n",
    "    dists = np.linalg.norm(diffs, axis=2)           # (M,4)\n",
    "    idxs = np.argmin(dists, axis=1)                 # (M,)\n",
    "\n",
    "    # sample rewards\n",
    "    rewards = _reward_means[idxs] + reward_std * np.random.randn(len(idxs))\n",
    "\n",
    "    return rewards[0] if was_single else rewards\n",
    "\n",
    "\n",
    "def generate_mixed_gaussian_dataset(\n",
    "    M: int = 10000,\n",
    "    action_sigma: float = 0.05,\n",
    "    reward_std: float   = _reward_std,\n",
    "    state_dim: int      = 1\n",
    "):\n",
    "    \"\"\"\n",
    "    Generate D = {(s, a, r, s')} for a 2D bandit where:\n",
    "      - a ~ 0.25 * sum_{j=1}^4 N(mu_j, action_sigma^2 I)\n",
    "      - r | a ~ N(mean_j, reward_std^2) via reward_function\n",
    "      - s = s' = 0 (constant bandit state)\n",
    "\n",
    "    Returns:\n",
    "      states:      (M, state_dim) array of zeros\n",
    "      actions:     (M, 2)           array of samples\n",
    "      rewards:     (M,)             array of rewards\n",
    "      next_states: (M, state_dim)   array of zeros\n",
    "    \"\"\"\n",
    "    # 2. Sample which component each action comes from\n",
    "    comp_idx = np.random.choice(len(_centers), size=M, replace=True)\n",
    "\n",
    "    # 3. Sample actions\n",
    "    actions = _centers[comp_idx] + action_sigma * np.random.randn(M, 2)\n",
    "\n",
    "    # 4. Sample rewards via the batch-capable reward_function\n",
    "    rewards = reward_function(actions, reward_std)\n",
    "\n",
    "    # 5. Create constant states s and s'\n",
    "    states     = np.zeros((M, state_dim))\n",
    "    next_states = states.copy()\n",
    "\n",
    "    return states, actions, rewards, next_states\n",
    "\n"
   ]
  },
  {
   "cell_type": "code",
   "execution_count": 3,
   "metadata": {},
   "outputs": [
    {
     "name": "stdout",
     "output_type": "stream",
     "text": [
      "(10000, 1) (10000, 2) (10000,) (10000, 1)\n",
      "tensor([[13.1736, 17.5663]], device='cuda:0')\n"
     ]
    }
   ],
   "source": [
    "S, A, R, S_next = generate_mixed_gaussian_dataset(M=10000)\n",
    "print(S.shape, A.shape, R.shape, S_next.shape)\n",
    "\n",
    "state_dim = S.shape[1]\n",
    "action_dim = A.shape[1]\n",
    "device = \"cuda\" if torch.cuda.is_available() else \"cpu\"\n",
    "diffusionQ_learner = DiffusionQLearner(state_dim, action_dim, device=device)\n",
    "a = diffusionQ_learner.sample(torch.as_tensor(S[0:1]).float().to(device))\n",
    "print(a)"
   ]
  },
  {
   "cell_type": "code",
   "execution_count": 4,
   "metadata": {},
   "outputs": [
    {
     "name": "stdout",
     "output_type": "stream",
     "text": [
      "(10000, 1) (10000, 2) (10000,) (10000, 1)\n"
     ]
    },
    {
     "name": "stderr",
     "output_type": "stream",
     "text": [
      "Training epochs:  10%|█         | 1/10 [01:38<14:42, 98.08s/it]"
     ]
    },
    {
     "name": "stdout",
     "output_type": "stream",
     "text": [
      "Epoch    1  Ld=0.2806  Lq=-0.0000004  loss_critic=0.4058\n"
     ]
    },
    {
     "name": "stderr",
     "output_type": "stream",
     "text": [
      "Training epochs:  20%|██        | 2/10 [03:25<13:47, 103.45s/it]"
     ]
    },
    {
     "name": "stdout",
     "output_type": "stream",
     "text": [
      "Epoch    2  Ld=0.1732  Lq=-0.0000005  loss_critic=0.4256\n"
     ]
    },
    {
     "name": "stderr",
     "output_type": "stream",
     "text": [
      "Training epochs:  30%|███       | 3/10 [05:26<13:00, 111.47s/it]"
     ]
    },
    {
     "name": "stdout",
     "output_type": "stream",
     "text": [
      "Epoch    3  Ld=0.1325  Lq=-0.0000005  loss_critic=0.4769\n"
     ]
    },
    {
     "name": "stderr",
     "output_type": "stream",
     "text": [
      "Training epochs:  40%|████      | 4/10 [07:28<11:34, 115.82s/it]"
     ]
    },
    {
     "name": "stdout",
     "output_type": "stream",
     "text": [
      "Epoch    4  Ld=0.1395  Lq=-0.0000006  loss_critic=0.4624\n"
     ]
    },
    {
     "name": "stderr",
     "output_type": "stream",
     "text": [
      "Training epochs:  50%|█████     | 5/10 [09:29<09:47, 117.43s/it]"
     ]
    },
    {
     "name": "stdout",
     "output_type": "stream",
     "text": [
      "Epoch    5  Ld=0.1858  Lq=-0.0000005  loss_critic=0.4762\n"
     ]
    },
    {
     "name": "stderr",
     "output_type": "stream",
     "text": [
      "Training epochs:  60%|██████    | 6/10 [11:25<07:47, 116.99s/it]"
     ]
    },
    {
     "name": "stdout",
     "output_type": "stream",
     "text": [
      "Epoch    6  Ld=0.1456  Lq=-0.0000004  loss_critic=0.4836\n"
     ]
    },
    {
     "name": "stderr",
     "output_type": "stream",
     "text": [
      "Training epochs:  70%|███████   | 7/10 [13:15<05:44, 114.88s/it]"
     ]
    },
    {
     "name": "stdout",
     "output_type": "stream",
     "text": [
      "Epoch    7  Ld=0.1490  Lq=-0.0000005  loss_critic=0.5007\n"
     ]
    },
    {
     "name": "stderr",
     "output_type": "stream",
     "text": [
      "Training epochs:  80%|████████  | 8/10 [15:02<03:44, 112.45s/it]"
     ]
    },
    {
     "name": "stdout",
     "output_type": "stream",
     "text": [
      "Epoch    8  Ld=0.1422  Lq=-0.0000005  loss_critic=0.5219\n"
     ]
    },
    {
     "name": "stderr",
     "output_type": "stream",
     "text": [
      "Training epochs:  90%|█████████ | 9/10 [16:52<01:51, 111.50s/it]"
     ]
    },
    {
     "name": "stdout",
     "output_type": "stream",
     "text": [
      "Epoch    9  Ld=0.1520  Lq=-0.0000005  loss_critic=0.5144\n"
     ]
    },
    {
     "name": "stderr",
     "output_type": "stream",
     "text": [
      "Training epochs: 100%|██████████| 10/10 [18:40<00:00, 112.01s/it]"
     ]
    },
    {
     "name": "stdout",
     "output_type": "stream",
     "text": [
      "Epoch   10  Ld=0.1872  Lq=-0.0000005  loss_critic=0.5427\n"
     ]
    },
    {
     "name": "stderr",
     "output_type": "stream",
     "text": [
      "\n"
     ]
    }
   ],
   "source": [
    "S, A, R, S_next = generate_mixed_gaussian_dataset(M=10000)\n",
    "print(S.shape, A.shape, R.shape, S_next.shape)\n",
    "\n",
    "#print(diffusionQ_learner)\n",
    "\n",
    "batch_size = 512\n",
    "epochs = 10\n",
    "steps_per_epoch = 2000\n",
    "\n",
    "# Build loader\n",
    "dataset = TensorDataset(\n",
    "    torch.as_tensor(S), torch.as_tensor(A),\n",
    "    torch.as_tensor(R), torch.as_tensor(S_next), \n",
    ")\n",
    "loader = DataLoader(dataset, batch_size=batch_size, shuffle=True, drop_last=True)\n",
    "\n",
    "it = iter(loader)\n",
    "for ep in tqdm(range(1, epochs + 1), desc=\"Training epochs\"):\n",
    "    for _ in range(steps_per_epoch):\n",
    "        try:\n",
    "            batch = next(it)\n",
    "        except StopIteration:\n",
    "            it = iter(loader)\n",
    "            batch = next(it)\n",
    "        Ld, Lq, loss_critic = diffusionQ_learner.update(batch)\n",
    "    if ep % (epochs/10) == 0:\n",
    "        print(f\"Epoch {ep:4d}  Ld={Ld:.4f}  Lq={Lq:.7f}  loss_critic={loss_critic:.4f}\")\n"
   ]
  },
  {
   "cell_type": "code",
   "execution_count": 33,
   "metadata": {},
   "outputs": [
    {
     "name": "stdout",
     "output_type": "stream",
     "text": [
      "Rewards: 1217.1672520355785\n",
      "Generated rewards: 1828.402000158123\n"
     ]
    },
    {
     "data": {
      "image/png": "[encoded data removed]",
      "text/plain": [
       "<Figure size 640x480 with 1 Axes>"
      ]
     },
     "metadata": {},
     "output_type": "display_data"
    }
   ],
   "source": [
    "states, actions, _, _ = generate_mixed_gaussian_dataset(M=10000)\n",
    "action_gen = diffusionQ_learner.sample( torch.as_tensor(states).float().to(device)).cpu().numpy()\n",
    "rewards = reward_function(actions, _reward_std)\n",
    "rewards_gen = reward_function(action_gen, _reward_std)\n",
    "print(f\"Rewards: {np.sum(rewards)}\")\n",
    "print(f\"Generated rewards: {np.sum(rewards_gen)}\")\n",
    "\n",
    "# Optionally visualize\n",
    "try:\n",
    "    import matplotlib.pyplot as plt\n",
    "    plt.scatter(actions[:,0], actions[:,1], alpha=0.2, label=\"dataset\")\n",
    "    plt.scatter(action_gen[:,0], action_gen[:,1], marker=\"x\", s=60, label=\"samples\")\n",
    "    plt.axis(\"equal\"); plt.legend(); plt.title(\"Behavior-cloned Diffusion Policy\")\n",
    "    plt.show()\n",
    "except ImportError:\n",
    "    pass"
   ]
  }
 ],
 "metadata": {
  "kernelspec": {
   "display_name": "traffic_predictor_3_9",
   "language": "python",
   "name": "python3"
  },
  "language_info": {
   "codemirror_mode": {
    "name": "ipython",
    "version": 3
   },
   "file_extension": ".py",
   "mimetype": "text/x-python",
   "name": "python",
   "nbconvert_exporter": "python",
   "pygments_lexer": "ipython3",
   "version": "3.9.20"
  }
 },
 "nbformat": 4,
 "nbformat_minor": 2
}
