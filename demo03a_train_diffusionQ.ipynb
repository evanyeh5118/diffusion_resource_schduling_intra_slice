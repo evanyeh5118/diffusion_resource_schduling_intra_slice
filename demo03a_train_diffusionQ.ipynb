{
 "cells": [
  {
   "cell_type": "code",
   "execution_count": 1,
   "metadata": {},
   "outputs": [],
   "source": [
    "import os\n",
    "os.environ[\"KMP_DUPLICATE_LIB_OK\"]=\"TRUE\"\n",
    "\n",
    "import numpy as np\n",
    "import matplotlib.pyplot as plt\n",
    "import pickle\n",
    "import torch\n",
    "\n",
    "from Configs import getEnvConfig, visualizeEnvConfig, getPredictorConfig, visualizePredictorConfig\n",
    "from EnvLibs import PolicySimulator, createEnv\n",
    "from DiffusionLibs import DiffusionPolicyInterface\n",
    "from MdpSolverLibs import MdpKernel"
   ]
  },
  {
   "cell_type": "code",
   "execution_count": 2,
   "metadata": {},
   "outputs": [
    {
     "name": "stdout",
     "output_type": "stream",
     "text": [
      "==================================================\n",
      "Environment Configuration\n",
      "==================================================\n",
      "Number of Users:        4\n",
      "Window Length:          200\n",
      "Dataflow:               thumb_fr\n",
      "N_aggregation:          4\n",
      "Resource Bar:           5\n",
      "Bandwidth:              100\n",
      "M List:                 [3, 4, 5]\n",
      "Random Seed:            999\n",
      "Alpha Range:            (0.01, 1.0)\n",
      "Discrete Alpha Steps:   10\n",
      "==================================================\n",
      "==================================================\n",
      "Predictor Configuration\n",
      "==================================================\n",
      "Window Length:          200\n",
      "Upsample K:             10\n",
      "Dataflow:               thumb_fr\n",
      "DB Parameter:           0.001\n",
      "Alpha:                  0.01\n",
      "Mode:                   fixed\n",
      "Direction:              forward\n",
      "Train Ratio:            0.6\n",
      "Train Data Augment:     False\n",
      "Smooth Fc:              1.5\n",
      "Smooth Order:           3\n",
      "==================================================\n"
     ]
    }
   ],
   "source": [
    "configIdx = 0\n",
    "envParams = getEnvConfig(configIdx)\n",
    "visualizeEnvConfig(envParams)\n",
    "predictorParams = getPredictorConfig(configIdx)\n",
    "visualizePredictorConfig(predictorParams)\n",
    "trafficDataParentPath = f'Results/TrafficData'\n",
    "env = createEnv(envParams, trafficDataParentPath)\n",
    "env.selectMode(mode=\"train\", type=\"data\")"
   ]
  },
  {
   "cell_type": "code",
   "execution_count": null,
   "metadata": {},
   "outputs": [
    {
     "name": "stderr",
     "output_type": "stream",
     "text": [
      "Simulation Progress: 100%|██████████| 5000/5000 [00:09<00:00, 512.22it/s, avg reward=0.003949]\n"
     ]
    },
    {
     "data": {
      "text/plain": [
       "'\\nnum_windows = 5000\\npolicySimulator = PolicySimulator(mdpPolicyTwo, env)\\nsimResultTwo = policySimulator.runSimulation(mdpPolicyTwo, num_windows=num_windows, obvMode=obvMode, mode=\"train\", type=\"data\")\\n(uRecord, actionsRecord, rewardRecord, uNextRecord) = (\\n    simResultOne[\\'uRecord\\'] + simResultTwo[\\'uRecord\\'], \\n    simResultOne[\\'actionsRecord\\'] + simResultTwo[\\'actionsRecord\\'], \\n    simResultOne[\\'rewardRecord\\'] + simResultTwo[\\'rewardRecord\\'], \\n    simResultOne[\\'uNextRecord\\'] + simResultTwo[\\'uNextRecord\\']\\n)\\n'"
      ]
     },
     "execution_count": 3,
     "metadata": {},
     "output_type": "execute_result"
    }
   ],
   "source": [
    "# ==== Prepare Policy====\n",
    "with open(f'Results/MdpPolicy/mdpKernelParams_config{configIdx}.pkl', 'rb') as f:\n",
    "    mdpKernelParams = pickle.load(f)\n",
    "mdpPolicyOne = MdpKernel()\n",
    "mdpPolicyOne.load_policy(mdpKernelParams, policyMode=\"deterministic\", randomR=False)\n",
    "mdpPolicyTwo = MdpKernel()\n",
    "mdpPolicyTwo.load_policy(mdpKernelParams, policyMode=\"stochastic\", randomR=False)\n",
    "\n",
    "# ==== Prepare Simulator====\n",
    "num_windows = 5000\n",
    "obvMode = \"predicted\" # \"perfect\" or \"predicted\"\n",
    "\n",
    "policySimulator = PolicySimulator(mdpPolicyOne, env)\n",
    "simResultOne = policySimulator.runSimulation(mdpPolicyOne, num_windows=num_windows, obvMode=obvMode, mode=\"train\", type=\"data\")\n",
    "(uRecord, actionsRecord, rewardRecord, uNextRecord) = (\n",
    "    simResultOne['uRecord'], \n",
    "    simResultOne['actionsRecord'], \n",
    "    simResultOne['rewardRecord'], \n",
    "    simResultOne['uNextRecord']\n",
    ")\n",
    "\n",
    "'''\n",
    "num_windows = 5000\n",
    "policySimulator = PolicySimulator(mdpPolicyTwo, env)\n",
    "simResultTwo = policySimulator.runSimulation(mdpPolicyTwo, num_windows=num_windows, obvMode=obvMode, mode=\"train\", type=\"data\")\n",
    "(uRecord, actionsRecord, rewardRecord, uNextRecord) = (\n",
    "    simResultOne['uRecord'] + simResultTwo['uRecord'], \n",
    "    simResultOne['actionsRecord'] + simResultTwo['actionsRecord'], \n",
    "    simResultOne['rewardRecord'] + simResultTwo['rewardRecord'], \n",
    "    simResultOne['uNextRecord'] + simResultTwo['uNextRecord']\n",
    ")\n",
    "'''"
   ]
  },
  {
   "cell_type": "code",
   "execution_count": 4,
   "metadata": {},
   "outputs": [
    {
     "name": "stderr",
     "output_type": "stream",
     "text": [
      "Evaluation windows: 100%|██████████| 500/500 [00:16<00:00, 30.80it/s]                                                             \n"
     ]
    },
    {
     "name": "stdout",
     "output_type": "stream",
     "text": [
      "Epoch   50/ 500  Avg Ld=0.313938  Avg Lq=40.825359  Avg loss_critic=0.020211  Test packet loss=0.0357  Avg Q_value_check=0.054753\n"
     ]
    },
    {
     "name": "stderr",
     "output_type": "stream",
     "text": [
      "Evaluation windows: 100%|██████████| 500/500 [00:17<00:00, 28.63it/s]                                                            \n"
     ]
    },
    {
     "name": "stdout",
     "output_type": "stream",
     "text": [
      "Epoch  100/ 500  Avg Ld=0.112948  Avg Lq=1.911870  Avg loss_critic=0.000063  Test packet loss=0.0190  Avg Q_value_check=0.072860\n"
     ]
    },
    {
     "name": "stderr",
     "output_type": "stream",
     "text": [
      "Evaluation windows: 100%|██████████| 500/500 [00:18<00:00, 26.39it/s]                                                             \n"
     ]
    },
    {
     "name": "stdout",
     "output_type": "stream",
     "text": [
      "Epoch  150/ 500  Avg Ld=0.092674  Avg Lq=1.166064  Avg loss_critic=0.000192  Test packet loss=0.0094  Avg Q_value_check=0.096726\n"
     ]
    },
    {
     "name": "stderr",
     "output_type": "stream",
     "text": [
      "Evaluation windows: 100%|██████████| 500/500 [00:16<00:00, 29.98it/s]                                                             \n"
     ]
    },
    {
     "name": "stdout",
     "output_type": "stream",
     "text": [
      "Epoch  200/ 500  Avg Ld=0.080431  Avg Lq=0.975244  Avg loss_critic=0.000049  Test packet loss=0.0102  Avg Q_value_check=0.104375\n"
     ]
    },
    {
     "name": "stderr",
     "output_type": "stream",
     "text": [
      "Evaluation windows: 100%|██████████| 500/500 [00:22<00:00, 22.58it/s]                                                             \n"
     ]
    },
    {
     "name": "stdout",
     "output_type": "stream",
     "text": [
      "Epoch  250/ 500  Avg Ld=0.073278  Avg Lq=0.907960  Avg loss_critic=0.000048  Test packet loss=0.0091  Avg Q_value_check=0.108041\n"
     ]
    },
    {
     "name": "stderr",
     "output_type": "stream",
     "text": [
      "Evaluation windows: 100%|██████████| 500/500 [00:16<00:00, 29.89it/s]                                                             \n"
     ]
    },
    {
     "name": "stdout",
     "output_type": "stream",
     "text": [
      "Epoch  300/ 500  Avg Ld=0.066263  Avg Lq=0.798779  Avg loss_critic=0.000047  Test packet loss=0.0082  Avg Q_value_check=0.109488\n"
     ]
    },
    {
     "name": "stderr",
     "output_type": "stream",
     "text": [
      "Evaluation windows: 100%|██████████| 500/500 [00:15<00:00, 31.64it/s]                                                             \n"
     ]
    },
    {
     "name": "stdout",
     "output_type": "stream",
     "text": [
      "Epoch  350/ 500  Avg Ld=0.062783  Avg Lq=0.735742  Avg loss_critic=0.000047  Test packet loss=0.0068  Avg Q_value_check=0.110040\n"
     ]
    },
    {
     "name": "stderr",
     "output_type": "stream",
     "text": [
      "Evaluation windows: 100%|██████████| 500/500 [00:27<00:00, 18.28it/s]                                                             \n"
     ]
    },
    {
     "name": "stdout",
     "output_type": "stream",
     "text": [
      "Epoch  400/ 500  Avg Ld=0.057587  Avg Lq=0.728225  Avg loss_critic=0.000047  Test packet loss=0.0071  Avg Q_value_check=0.110215\n"
     ]
    },
    {
     "name": "stderr",
     "output_type": "stream",
     "text": [
      "Evaluation windows: 100%|██████████| 500/500 [00:16<00:00, 30.04it/s]                                                             \n"
     ]
    },
    {
     "name": "stdout",
     "output_type": "stream",
     "text": [
      "Epoch  450/ 500  Avg Ld=0.054469  Avg Lq=0.695060  Avg loss_critic=0.000047  Test packet loss=0.0055  Avg Q_value_check=0.110216\n"
     ]
    },
    {
     "name": "stderr",
     "output_type": "stream",
     "text": [
      "Evaluation windows: 100%|██████████| 500/500 [01:05<00:00,  7.68it/s]                                                             "
     ]
    },
    {
     "name": "stdout",
     "output_type": "stream",
     "text": [
      "Epoch  500/ 500  Avg Ld=0.048813  Avg Lq=0.678305  Avg loss_critic=0.000047  Test packet loss=0.0054  Avg Q_value_check=0.110098\n"
     ]
    },
    {
     "name": "stderr",
     "output_type": "stream",
     "text": [
      "\n"
     ]
    }
   ],
   "source": [
    "diffusionQParams = {\n",
    "    'device': 'cuda',\n",
    "    'gamma': 0.1,\n",
    "    'tau': 0.005,\n",
    "    'lr': 5e-3,\n",
    "    'eta': 1.0,\n",
    "    'iql_tau': 0.95,\n",
    "    'temperature': 3.0,\n",
    "    'N_action_candidates': 50\n",
    "}\n",
    "diffusionPolicyInterface = DiffusionPolicyInterface(envParams, **diffusionQParams)\n",
    "model_state_dict, info = diffusionPolicyInterface.train(\n",
    "    (uRecord, actionsRecord, rewardRecord, uNextRecord), \n",
    "    env, iql_flag=True, epochs=500,batch_size=1024, sample_method=\"greedy\")"
   ]
  },
  {
   "cell_type": "code",
   "execution_count": 5,
   "metadata": {},
   "outputs": [
    {
     "name": "stdout",
     "output_type": "stream",
     "text": [
      "Model saved to Results/DiffusionQ/diffusionQ_config0.pth\n",
      "Info saved to Results/DiffusionQ/diffusionQ_info_config0.pkl\n",
      "Params saved to Results/DiffusionQ/diffusionQ_params_config0.pkl\n"
     ]
    }
   ],
   "source": [
    "# Save the trained model state dictionary\n",
    "import torch\n",
    "torch.save(model_state_dict, f'Results/DiffusionQ/diffusionQ_config{configIdx}.pth')\n",
    "print(f\"Model saved to Results/DiffusionQ/diffusionQ_config{configIdx}.pth\")\n",
    "with open(f'Results/DiffusionQ/diffusionQ_info_config{configIdx}.pkl', 'wb') as f:\n",
    "    pickle.dump(info, f)\n",
    "print(f\"Info saved to Results/DiffusionQ/diffusionQ_info_config{configIdx}.pkl\")\n",
    "with open(f'Results/DiffusionQ/diffusionQ_params_config{configIdx}.pkl', 'wb') as f:\n",
    "    pickle.dump(diffusionQParams, f)\n",
    "print(f\"Params saved to Results/DiffusionQ/diffusionQ_params_config{configIdx}.pkl\")"
   ]
  },
  {
   "cell_type": "code",
   "execution_count": 6,
   "metadata": {},
   "outputs": [
    {
     "data": {
      "image/png": "[encoded data removed]",
      "text/plain": [
       "<Figure size 640x480 with 1 Axes>"
      ]
     },
     "metadata": {},
     "output_type": "display_data"
    },
    {
     "data": {
      "image/png": "[encoded data removed]",
      "text/plain": [
       "<Figure size 640x480 with 1 Axes>"
      ]
     },
     "metadata": {},
     "output_type": "display_data"
    },
    {
     "data": {
      "image/png": "[encoded data removed]",
      "text/plain": [
       "<Figure size 640x480 with 1 Axes>"
      ]
     },
     "metadata": {},
     "output_type": "display_data"
    }
   ],
   "source": [
    "def smooth(data, window_size=10):\n",
    "    return np.convolve(data, np.ones(window_size)/window_size, mode='valid')\n",
    "\n",
    "obv_idxs = -1000\n",
    "window_size = 100\n",
    "plt.plot(smooth(info['LdRecord'][obv_idxs:], window_size=window_size), label=\"Ld\")\n",
    "plt.legend()\n",
    "plt.show()\n",
    "plt.plot(smooth(info['LqRecord'][obv_idxs:], window_size=window_size), label=\"Lq\")\n",
    "plt.legend()\n",
    "plt.show()\n",
    "plt.plot(smooth(info['lossCriticRecord'][obv_idxs:], window_size=window_size), label=\"lossCritic\")\n",
    "plt.legend()\n",
    "plt.show()"
   ]
  }
 ],
 "metadata": {
  "kernelspec": {
   "display_name": "traffic_predictor_3_9",
   "language": "python",
   "name": "python3"
  },
  "language_info": {
   "codemirror_mode": {
    "name": "ipython",
    "version": 3
   },
   "file_extension": ".py",
   "mimetype": "text/x-python",
   "name": "python",
   "nbconvert_exporter": "python",
   "pygments_lexer": "ipython3",
   "version": "3.9.20"
  }
 },
 "nbformat": 4,
 "nbformat_minor": 2
}
