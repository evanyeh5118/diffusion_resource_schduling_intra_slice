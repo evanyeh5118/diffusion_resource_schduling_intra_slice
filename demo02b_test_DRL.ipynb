{
 "cells": [
  {
   "cell_type": "code",
   "execution_count": 1,
   "metadata": {},
   "outputs": [],
   "source": [
    "import os\n",
    "os.environ[\"KMP_DUPLICATE_LIB_OK\"]=\"TRUE\"\n",
    "\n",
    "import numpy as np\n",
    "import matplotlib.pyplot as plt\n",
    "import pickle\n",
    "\n",
    "from DrlLibs.evaluate import evaluate_drl_agent\n",
    "from DrlLibs.DRL_config import (\n",
    "    get_algorithm_config, \n",
    "    get_training_config,\n",
    "    print_algorithm_info\n",
    ")\n",
    "from DrlLibs import create_environment, load_and_evaluate\n",
    "from Configs import getEnvConfig, visualizeEnvConfig, getPredictorConfig, visualizePredictorConfig\n",
    "from EnvLibs import PolicyDemoAdaptiveAlpha, PolicySimulator, createEnv"
   ]
  },
  {
   "cell_type": "code",
   "execution_count": 2,
   "metadata": {},
   "outputs": [
    {
     "name": "stdout",
     "output_type": "stream",
     "text": [
      "==================================================\n",
      "Environment Configuration\n",
      "==================================================\n",
      "Number of Users:        4\n",
      "Window Length:          200\n",
      "Dataflow:               thumb_fr\n",
      "N_aggregation:          4\n",
      "Resource Bar:           4\n",
      "Bandwidth:              40\n",
      "M List:                 [2, 3]\n",
      "Random Seed:            999\n",
      "Alpha Range:            (0.01, 1.0)\n",
      "Discrete Alpha Steps:   10\n",
      "==================================================\n",
      "==================================================\n",
      "Predictor Configuration\n",
      "==================================================\n",
      "Window Length:          200\n",
      "Upsample K:             10\n",
      "Dataflow:               thumb_fr\n",
      "DB Parameter:           0.001\n",
      "Alpha:                  0.01\n",
      "Mode:                   fixed\n",
      "Direction:              forward\n",
      "Train Ratio:            0.6\n",
      "Train Data Augment:     False\n",
      "Smooth Fc:              1.5\n",
      "Smooth Order:           3\n",
      "==================================================\n"
     ]
    }
   ],
   "source": [
    "configIdx = 0\n",
    "(envParams, predictorParams) = (getEnvConfig(configIdx), getPredictorConfig(configIdx))\n",
    "visualizeEnvConfig(envParams)\n",
    "visualizePredictorConfig(predictorParams)\n",
    "simEnv = createEnv(envParams, f'Results/TrafficData')\n",
    "simEnv.selectMode(mode=\"test\", type=\"data\")"
   ]
  },
  {
   "cell_type": "code",
   "execution_count": 3,
   "metadata": {},
   "outputs": [
    {
     "name": "stdout",
     "output_type": "stream",
     "text": [
      "Loading SAC model from Results/DrlAgent/SAC_configure0.zip\n",
      "\n",
      "============================================================\n",
      "Evaluating SAC Agent\n",
      "============================================================\n",
      "Evaluation Results:\n",
      "  Average Reward: -11.7151 ± 0.6340\n",
      "  Average Loss Rate: 0.0121 ± 0.0008\n",
      "  Average Alpha: 0.7349\n",
      "  Average Episode Length: 1000.00\n"
     ]
    }
   ],
   "source": [
    "# ==== Prepare Policy====\n",
    "with open(f'Results/MdpPolicy/mdpKernel_config{configIdx}.pkl', 'rb') as f:\n",
    "    mdpPolicy = pickle.load(f)\n",
    "adaptiveAlphaPolicy = PolicyDemoAdaptiveAlpha(envParams)\n",
    "\n",
    "# ==== Prepare Simulator====\n",
    "policySimulator = PolicySimulator(mdpPolicy, simEnv)\n",
    "rewardRecord_mdp = policySimulator.runSimulation(mdpPolicy, num_epochs=5000, mode=\"test\", type=\"data\")\n",
    "rewardRecord_adaptive = policySimulator.runSimulation(adaptiveAlphaPolicy, num_epochs=5000, mode=\"test\", type=\"data\")\n",
    "\n",
    "# ==== Evaluate Policy====\n",
    "_, eval_results = load_and_evaluate(envParams, simEnv, \n",
    "                  f'Results/DrlAgent/SAC_configure{configIdx}.zip', \n",
    "                  'SAC', \n",
    "                  num_episodes=10)\n",
    "rewardRecord_drl = eval_results['episode_loss_rates']"
   ]
  },
  {
   "cell_type": "code",
   "execution_count": 4,
   "metadata": {},
   "outputs": [
    {
     "name": "stdout",
     "output_type": "stream",
     "text": [
      "Average Reward MDP:      0.0049\n",
      "Average Reward Adaptive: 0.0409\n",
      "Average Reward DRL:      0.0121\n"
     ]
    },
    {
     "data": {
      "image/png": "[encoded data removed]",
      "text/plain": [
       "<Figure size 640x480 with 1 Axes>"
      ]
     },
     "metadata": {},
     "output_type": "display_data"
    }
   ],
   "source": [
    "print(f\"Average Reward MDP:      {np.mean(rewardRecord_mdp):.4f}\")\n",
    "print(f\"Average Reward Adaptive: {np.mean(rewardRecord_adaptive):.4f}\")\n",
    "print(f\"Average Reward DRL:      {np.mean(rewardRecord_drl):.4f}\")\n",
    "\n",
    "#plt.plot(rewardRecord_adaptive, label=\"adaptive\")\n",
    "plt.plot(rewardRecord_drl, label=\"drl\")\n",
    "plt.plot(rewardRecord_mdp, label=\"mdp\")\n",
    "plt.legend()\n",
    "plt.show()"
   ]
  },
  {
   "cell_type": "code",
   "execution_count": 2,
   "metadata": {},
   "outputs": [],
   "source": []
  }
 ],
 "metadata": {
  "kernelspec": {
   "display_name": "traffic_predictor_3_9",
   "language": "python",
   "name": "python3"
  },
  "language_info": {
   "codemirror_mode": {
    "name": "ipython",
    "version": 3
   },
   "file_extension": ".py",
   "mimetype": "text/x-python",
   "name": "python",
   "nbconvert_exporter": "python",
   "pygments_lexer": "ipython3",
   "version": "3.9.20"
  }
 },
 "nbformat": 4,
 "nbformat_minor": 2
}
