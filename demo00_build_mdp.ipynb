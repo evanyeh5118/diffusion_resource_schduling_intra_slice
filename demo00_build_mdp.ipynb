{
 "cells": [
  {
   "cell_type": "code",
   "execution_count": 1,
   "metadata": {},
   "outputs": [],
   "source": [
    "import os\n",
    "os.environ[\"KMP_DUPLICATE_LIB_OK\"]=\"TRUE\"\n",
    "\n",
    "import numpy as np\n",
    "import pandas as pd\n",
    "import matplotlib.pyplot as plt\n",
    "import pickle\n",
    "from MdpSolverLibs import *\n",
    "from EnvLibs import TrafficGenerator"
   ]
  },
  {
   "cell_type": "code",
   "execution_count": null,
   "metadata": {},
   "outputs": [
    {
     "name": "stdout",
     "output_type": "stream",
     "text": [
      "Ts:0.001, Size: (30817,)\n",
      "Ts:0.001, Size: (36017,)\n",
      "Ts:0.001, Size: (37230,)\n",
      "[1. 1. 1. 1. 1. 1. 1. 1. 1. 1. 1.]\n",
      "256\n",
      "320\n",
      "14641\n",
      "4685120\n"
     ]
    }
   ],
   "source": [
    "params = {\n",
    "    'N_user': 4,\n",
    "    'LEN_window': 10,\n",
    "    'r_bar': 4,\n",
    "    'B': 40,\n",
    "    'M_list': [2,3],\n",
    "    'randomSeed': 999,\n",
    "    'alphaList': np.linspace(0, 1.0, 10),\n",
    "    'N_aggregation': 4\n",
    "}\n",
    "\n",
    "lenWindow = 10\n",
    "dataflow = \"thumb_fr\"\n",
    "trafficGenerator = TrafficGenerator(params)\n",
    "for taskName in [\"Task0\", \"Task1\", \"Task2\"]:\n",
    "    with open(f'Results/TrafficData/trafficData_{taskName}_{dataflow}_LenWindow{lenWindow}.pkl', 'rb') as f:\n",
    "        trafficData = pickle.load(f)\n",
    "    trafficGenerator.registerDataset(trafficData['traffic'], train_ratio=0.7)\n",
    "    print(f\"Ts:{trafficData['Ts']}, Size: {trafficData['traffic'].shape}\")\n",
    "\n",
    "mdpFormulator = MdpFormulator(params, trafficGenerator.getM(mode=\"train\"))\n",
    "print(np.sum(trafficGenerator.getM(mode=\"train\"), axis=1))\n",
    "print(mdpFormulator.N_states)\n",
    "print(mdpFormulator.N_actions)\n",
    "print(mdpFormulator.N_states_original**mdpFormulator.N_user)\n",
    "print(mdpFormulator.N_states_original**mdpFormulator.N_user*mdpFormulator.N_actions)"
   ]
  },
  {
   "cell_type": "code",
   "execution_count": 3,
   "metadata": {},
   "outputs": [],
   "source": [
    "mdpFormulator.aggregateModel(approximate=True)"
   ]
  },
  {
   "cell_type": "code",
   "execution_count": 4,
   "metadata": {},
   "outputs": [
    {
     "name": "stdout",
     "output_type": "stream",
     "text": [
      "(256, 320)\n",
      "(256, 256, 320)\n"
     ]
    }
   ],
   "source": [
    "mdpKernel = mdpFormulator.getMdpKernel()\n",
    "print(mdpKernel.rewardTable.shape)\n",
    "print(mdpKernel.transitionTable.shape)\n",
    "(V, policy) = mdpKernel.optimize_policy()"
   ]
  },
  {
   "cell_type": "code",
   "execution_count": 8,
   "metadata": {},
   "outputs": [],
   "source": [
    "with open(f'Results/MdpPolicy/mdpKernel_{dataflow}_LenWindow{lenWindow}.pkl', 'wb') as f:\n",
    "    pickle.dump(mdpKernel, f)   \n",
    "with open(f'Results/MdpPolicy/params_{dataflow}_LenWindow{lenWindow}.pkl', 'wb') as f:\n",
    "    pickle.dump(mdpFormulator.params, f)\n",
    "with open(f'Results/MdpPolicy/trafficGenerator_{dataflow}_LenWindow{lenWindow}.pkl', 'wb') as f:\n",
    "    pickle.dump(trafficGenerator, f)\n",
    "#print(mdpKernel.V)"
   ]
  }
 ],
 "metadata": {
  "kernelspec": {
   "display_name": "traffic_predictor_3_9",
   "language": "python",
   "name": "python3"
  },
  "language_info": {
   "codemirror_mode": {
    "name": "ipython",
    "version": 3
   },
   "file_extension": ".py",
   "mimetype": "text/x-python",
   "name": "python",
   "nbconvert_exporter": "python",
   "pygments_lexer": "ipython3",
   "version": "3.9.20"
  }
 },
 "nbformat": 4,
 "nbformat_minor": 2
}
