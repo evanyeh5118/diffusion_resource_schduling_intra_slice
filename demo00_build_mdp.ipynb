{
 "cells": [
  {
   "cell_type": "code",
   "execution_count": 1,
   "metadata": {},
   "outputs": [],
   "source": [
    "import os\n",
    "os.environ[\"KMP_DUPLICATE_LIB_OK\"]=\"TRUE\"\n",
    "\n",
    "import numpy as np\n",
    "import pandas as pd\n",
    "import matplotlib.pyplot as plt\n",
    "import pickle\n",
    "from MdpSolverLibs import *\n",
    "from EnvLibs import TrafficGenerator, getEnvConfig, visualizeEnvConfig, createEnv"
   ]
  },
  {
   "cell_type": "code",
   "execution_count": 2,
   "metadata": {},
   "outputs": [
    {
     "name": "stdout",
     "output_type": "stream",
     "text": [
      "==================================================\n",
      "Environment Configuration\n",
      "==================================================\n",
      "Number of Users:        4\n",
      "Window Length:          20\n",
      "Dataflow:               thumb_fr\n",
      "Resource Bar:           4\n",
      "Bandwidth:              40\n",
      "M List:                 [2, 3]\n",
      "Random Seed:            999\n",
      "Alpha Range:            (0.01, 1.0)\n",
      "Discrete Alpha Steps:   10\n",
      "==================================================\n",
      "[1. 1. 1. 1. 1. 1. 1. 1. 1. 1. 1. 1. 1. 1. 1. 1. 0. 0. 1. 1. 1.]\n",
      "256\n",
      "320\n",
      "194481\n",
      "62233920\n"
     ]
    }
   ],
   "source": [
    "configIdx = 0\n",
    "params = getEnvConfig(configIdx)\n",
    "visualizeEnvConfig(params)\n",
    "env = createEnv(params)\n",
    "env.selectMode(mode=\"train\", type=\"data\")\n",
    "\n",
    "mdpFormulator = MdpFormulator(params, env.trafficGenerator.getM(mode=\"train\"))\n",
    "print(np.sum(env.trafficGenerator.getM(mode=\"train\"), axis=1))\n",
    "print(mdpFormulator.N_states)\n",
    "print(mdpFormulator.N_actions)\n",
    "print(mdpFormulator.N_states_original**mdpFormulator.N_user)\n",
    "print(mdpFormulator.N_states_original**mdpFormulator.N_user*mdpFormulator.N_actions)"
   ]
  },
  {
   "cell_type": "code",
   "execution_count": 3,
   "metadata": {},
   "outputs": [],
   "source": [
    "mdpFormulator.aggregateModel(approximate=True)"
   ]
  },
  {
   "cell_type": "code",
   "execution_count": 4,
   "metadata": {},
   "outputs": [
    {
     "name": "stdout",
     "output_type": "stream",
     "text": [
      "(256, 320)\n",
      "(256, 256, 320)\n"
     ]
    }
   ],
   "source": [
    "mdpKernel = mdpFormulator.getMdpKernel()\n",
    "print(mdpKernel.rewardTable.shape)\n",
    "print(mdpKernel.transitionTable.shape)\n",
    "(V, policy) = mdpKernel.optimize_policy()"
   ]
  },
  {
   "cell_type": "code",
   "execution_count": 5,
   "metadata": {},
   "outputs": [],
   "source": [
    "with open(f'Results/MdpPolicy/mdpKernel_config{configIdx}.pkl', 'wb') as f:\n",
    "    pickle.dump(mdpKernel, f)   \n",
    "#with open(f'Results/MdpPolicy/trafficGenerator_{params['dataflow']}_LenWindow{params['LEN_window']}.pkl', 'wb') as f:\n",
    "#    pickle.dump(trafficGenerator, f)\n",
    "#print(mdpKernel.V)"
   ]
  }
 ],
 "metadata": {
  "kernelspec": {
   "display_name": "traffic_predictor_3_9",
   "language": "python",
   "name": "python3"
  },
  "language_info": {
   "codemirror_mode": {
    "name": "ipython",
    "version": 3
   },
   "file_extension": ".py",
   "mimetype": "text/x-python",
   "name": "python",
   "nbconvert_exporter": "python",
   "pygments_lexer": "ipython3",
   "version": "3.9.20"
  }
 },
 "nbformat": 4,
 "nbformat_minor": 2
}
